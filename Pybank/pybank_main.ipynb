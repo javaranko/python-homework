{
 "cells": [
  {
   "cell_type": "code",
   "execution_count": 4,
   "id": "6c626deb-9bc0-4c6c-8e98-7b59c72fe53c",
   "metadata": {},
   "outputs": [],
   "source": [
    "# Import pathlib and set the file path\n",
    "from pathlib import Path\n",
    "import csv\n",
    "csv_data = Path('./budget_data.csv')"
   ]
  },
  {
   "cell_type": "code",
   "execution_count": 2,
   "id": "f194c633-4341-4120-9a22-c5801846e29c",
   "metadata": {},
   "outputs": [],
   "source": [
    "# Initialize list of records\n",
    "records = []"
   ]
  },
  {
   "cell_type": "code",
   "execution_count": 3,
   "id": "1b8f90c0-4f07-4691-90c7-6d2f7f2e4b8b",
   "metadata": {},
   "outputs": [
    {
     "name": "stdout",
     "output_type": "stream",
     "text": [
      "\n",
      "Financial Analysis\n",
      "-------------------------------\n",
      "Total Months:  86\n",
      "Total: $ 38382578\n",
      "Average Change: $ -2315.12\n",
      "Greatest Increase in Profits:  Feb-2012  ($ 1926159 )\n",
      "Greatest Decrease in Profits:  Sep-2013  ($ -2196167 )\n"
     ]
    }
   ],
   "source": [
    "# Open the csv file as an object\n",
    "with open(csv_data, 'r') as csvfile:\n",
    "    # Pass in the csv file to the csv.reader() function\n",
    "    #(with ',' as the delimiter/separator) and return the csvreader object\n",
    "    csvreader = csv.reader(csvfile, delimiter=',')\n",
    "    # Read the heder row first\n",
    "    csv_header = next(csvreader)\n",
    "    # Print the header\n",
    "    #print(csv_header)\n",
    "    \n",
    "    #Append the column 'Average' to the header\n",
    "    csv_header.append(\"Average\")\n",
    "    \n",
    "    # Append the header to teh list of record\n",
    "    records.append(csv_header)\n",
    "    #print(csv_header)\n",
    "    \n",
    "    # Read each row of data after the header\n",
    "    # for row in csvreader:\n",
    "        \n",
    "    net_profit = 0\n",
    "    greatest_increase = 0\n",
    "    date_greatincrease = str\n",
    "    greatest_decrease = 0\n",
    "    date_greatdecrease = str\n",
    "    \n",
    "    first_row = next(csvreader)\n",
    "    month_count = 1\n",
    "    net_profit = net_profit + int(first_row[1])\n",
    "    previous_net = int(first_row[1])\n",
    "    net_change_list = []\n",
    "    \n",
    "    #initialize greatest increase and decrease\n",
    "    greatest_increase = int(first_row[1])\n",
    "    date_greatincrease = str(first_row[0])\n",
    "    greatest_decrease = int(first_row[1])\n",
    "    date_greatdecrease = str(first_row[0])\n",
    "    \n",
    "    for row in csvreader:\n",
    "        net_profit += int(row[1])\n",
    "        month_count += 1\n",
    "        net_change = int(row[1]) - previous_net\n",
    "        previous_net = int(row[1])\n",
    "                                         \n",
    "        # Recording the change\n",
    "        net_change_list = net_change_list + [net_change]\n",
    "        month_change = month_count - 1\n",
    "        \n",
    "        #identififying the greatest increase and decrease\n",
    "        if net_change > greatest_increase:\n",
    "            greatest_increase = net_change\n",
    "            date_greatincrease = str(row[0]) \n",
    "        elif net_change < greatest_decrease:\n",
    "            greatest_decrease = net_change\n",
    "            date_greatdecrease = str(row[0])\n",
    "                         \n",
    "        # print(net_change)\n",
    "average_month_change = round(sum(net_change_list) / month_change,2)\n",
    "# printing results\n",
    "print()\n",
    "print(\"Financial Analysis\")\n",
    "print(\"-------------------------------\")\n",
    "print(\"Total Months: \", month_count)\n",
    "print(\"Total: $\",net_profit)\n",
    "print(\"Average Change: $\",average_month_change)\n",
    "print(\"Greatest Increase in Profits: \", date_greatincrease, \" ($\",greatest_increase,\")\")\n",
    "print(\"Greatest Decrease in Profits: \", date_greatdecrease, \" ($\",greatest_decrease,\")\")\n",
    "\n",
    "# Export the results to text file\n",
    "\n",
    "from pathlib import Path\n",
    "import csv\n",
    "pybank_analysis = Path('./pybank_analysis.txt')\n",
    "\n",
    "with open(pybank_analysis, 'w') as txt_file:\n",
    "    txt_file.write(f\"Financial Analysis\\n\")\n",
    "    txt_file.write(f\"------------------------------\\n\")\n",
    "    txt_file.write(f\"Total Months: {month_count}\\n\")\n",
    "    txt_file.write(f\"Total: $ {net_profit}\\n\")\n",
    "    txt_file.write(f\"Average Change: $ {average_month_change}\\n\")\n",
    "    txt_file.write(f\"Greatest Increase in Profits:  {date_greatincrease} ($ {greatest_increase})\\n\")\n",
    "    txt_file.write(f\"Greatest Decrease in Profits:  {date_greatdecrease} ($ {greatest_decrease})\\n\")\n",
    "    "
   ]
  },
  {
   "cell_type": "code",
   "execution_count": null,
   "id": "c43ea8d3-6b7b-4fd8-a9b0-fca9bb1ca9da",
   "metadata": {},
   "outputs": [],
   "source": []
  },
  {
   "cell_type": "code",
   "execution_count": null,
   "id": "89de7816-d89e-4986-b43f-b8c6e5745a95",
   "metadata": {},
   "outputs": [],
   "source": []
  },
  {
   "cell_type": "code",
   "execution_count": null,
   "id": "41a7c4a4-a691-471f-9c47-b428e1b0cd89",
   "metadata": {},
   "outputs": [],
   "source": []
  },
  {
   "cell_type": "code",
   "execution_count": null,
   "id": "8b300fac-d6ae-4c67-a2e2-4a9b0fc189a6",
   "metadata": {},
   "outputs": [],
   "source": []
  }
 ],
 "metadata": {
  "kernelspec": {
   "display_name": "Python 3 (ipykernel)",
   "language": "python",
   "name": "python3"
  },
  "language_info": {
   "codemirror_mode": {
    "name": "ipython",
    "version": 3
   },
   "file_extension": ".py",
   "mimetype": "text/x-python",
   "name": "python",
   "nbconvert_exporter": "python",
   "pygments_lexer": "ipython3",
   "version": "3.7.13"
  }
 },
 "nbformat": 4,
 "nbformat_minor": 5
}
